{
 "cells": [
  {
   "cell_type": "code",
   "execution_count": 9,
   "metadata": {},
   "outputs": [],
   "source": [
    "import numpy as np\n",
    "import pandas as pd\n",
    "import matplotlib.pyplot as plt\n",
    "import seaborn as sns"
   ]
  },
  {
   "cell_type": "code",
   "execution_count": 10,
   "metadata": {},
   "outputs": [],
   "source": [
    "df = pd.read_csv('housing.csv')"
   ]
  },
  {
   "cell_type": "code",
   "execution_count": 11,
   "metadata": {},
   "outputs": [
    {
     "data": {
      "text/html": [
       "<div>\n",
       "<style scoped>\n",
       "    .dataframe tbody tr th:only-of-type {\n",
       "        vertical-align: middle;\n",
       "    }\n",
       "\n",
       "    .dataframe tbody tr th {\n",
       "        vertical-align: top;\n",
       "    }\n",
       "\n",
       "    .dataframe thead th {\n",
       "        text-align: right;\n",
       "    }\n",
       "</style>\n",
       "<table border=\"1\" class=\"dataframe\">\n",
       "  <thead>\n",
       "    <tr style=\"text-align: right;\">\n",
       "      <th></th>\n",
       "      <th>longitude</th>\n",
       "      <th>latitude</th>\n",
       "      <th>housing_median_age</th>\n",
       "      <th>total_rooms</th>\n",
       "      <th>total_bedrooms</th>\n",
       "      <th>population</th>\n",
       "      <th>households</th>\n",
       "      <th>median_income</th>\n",
       "      <th>median_house_value</th>\n",
       "      <th>ocean_proximity</th>\n",
       "    </tr>\n",
       "  </thead>\n",
       "  <tbody>\n",
       "    <tr>\n",
       "      <th>0</th>\n",
       "      <td>-122.23</td>\n",
       "      <td>37.88</td>\n",
       "      <td>41.0</td>\n",
       "      <td>880.0</td>\n",
       "      <td>129.0</td>\n",
       "      <td>322.0</td>\n",
       "      <td>126.0</td>\n",
       "      <td>8.3252</td>\n",
       "      <td>452600.0</td>\n",
       "      <td>NEAR BAY</td>\n",
       "    </tr>\n",
       "    <tr>\n",
       "      <th>1</th>\n",
       "      <td>-122.22</td>\n",
       "      <td>37.86</td>\n",
       "      <td>21.0</td>\n",
       "      <td>7099.0</td>\n",
       "      <td>1106.0</td>\n",
       "      <td>2401.0</td>\n",
       "      <td>1138.0</td>\n",
       "      <td>8.3014</td>\n",
       "      <td>358500.0</td>\n",
       "      <td>NEAR BAY</td>\n",
       "    </tr>\n",
       "    <tr>\n",
       "      <th>2</th>\n",
       "      <td>-122.24</td>\n",
       "      <td>37.85</td>\n",
       "      <td>52.0</td>\n",
       "      <td>1467.0</td>\n",
       "      <td>190.0</td>\n",
       "      <td>496.0</td>\n",
       "      <td>177.0</td>\n",
       "      <td>7.2574</td>\n",
       "      <td>352100.0</td>\n",
       "      <td>NEAR BAY</td>\n",
       "    </tr>\n",
       "    <tr>\n",
       "      <th>3</th>\n",
       "      <td>-122.25</td>\n",
       "      <td>37.85</td>\n",
       "      <td>52.0</td>\n",
       "      <td>1274.0</td>\n",
       "      <td>235.0</td>\n",
       "      <td>558.0</td>\n",
       "      <td>219.0</td>\n",
       "      <td>5.6431</td>\n",
       "      <td>341300.0</td>\n",
       "      <td>NEAR BAY</td>\n",
       "    </tr>\n",
       "    <tr>\n",
       "      <th>4</th>\n",
       "      <td>-122.25</td>\n",
       "      <td>37.85</td>\n",
       "      <td>52.0</td>\n",
       "      <td>1627.0</td>\n",
       "      <td>280.0</td>\n",
       "      <td>565.0</td>\n",
       "      <td>259.0</td>\n",
       "      <td>3.8462</td>\n",
       "      <td>342200.0</td>\n",
       "      <td>NEAR BAY</td>\n",
       "    </tr>\n",
       "  </tbody>\n",
       "</table>\n",
       "</div>"
      ],
      "text/plain": [
       "   longitude  latitude  housing_median_age  total_rooms  total_bedrooms  \\\n",
       "0    -122.23     37.88                41.0        880.0           129.0   \n",
       "1    -122.22     37.86                21.0       7099.0          1106.0   \n",
       "2    -122.24     37.85                52.0       1467.0           190.0   \n",
       "3    -122.25     37.85                52.0       1274.0           235.0   \n",
       "4    -122.25     37.85                52.0       1627.0           280.0   \n",
       "\n",
       "   population  households  median_income  median_house_value ocean_proximity  \n",
       "0       322.0       126.0         8.3252            452600.0        NEAR BAY  \n",
       "1      2401.0      1138.0         8.3014            358500.0        NEAR BAY  \n",
       "2       496.0       177.0         7.2574            352100.0        NEAR BAY  \n",
       "3       558.0       219.0         5.6431            341300.0        NEAR BAY  \n",
       "4       565.0       259.0         3.8462            342200.0        NEAR BAY  "
      ]
     },
     "execution_count": 11,
     "metadata": {},
     "output_type": "execute_result"
    }
   ],
   "source": [
    "df.head()"
   ]
  },
  {
   "cell_type": "code",
   "execution_count": 12,
   "metadata": {},
   "outputs": [],
   "source": [
    "df = df[(df['ocean_proximity'] == '<1H OCEAN') | (df['ocean_proximity'] == 'INLAND') ]"
   ]
  },
  {
   "cell_type": "code",
   "execution_count": 13,
   "metadata": {},
   "outputs": [
    {
     "data": {
      "text/plain": [
       "array(['<1H OCEAN', 'INLAND'], dtype=object)"
      ]
     },
     "execution_count": 13,
     "metadata": {},
     "output_type": "execute_result"
    }
   ],
   "source": [
    "df.ocean_proximity.unique()"
   ]
  },
  {
   "cell_type": "code",
   "execution_count": 14,
   "metadata": {},
   "outputs": [
    {
     "data": {
      "text/plain": [
       "Index(['longitude', 'latitude', 'housing_median_age', 'total_rooms',\n",
       "       'total_bedrooms', 'population', 'households', 'median_income',\n",
       "       'median_house_value', 'ocean_proximity'],\n",
       "      dtype='object')"
      ]
     },
     "execution_count": 14,
     "metadata": {},
     "output_type": "execute_result"
    }
   ],
   "source": [
    "df.columns"
   ]
  },
  {
   "cell_type": "code",
   "execution_count": 15,
   "metadata": {},
   "outputs": [
    {
     "data": {
      "text/plain": [
       "longitude               0\n",
       "latitude                0\n",
       "housing_median_age      0\n",
       "total_rooms             0\n",
       "total_bedrooms        157\n",
       "population              0\n",
       "households              0\n",
       "median_income           0\n",
       "median_house_value      0\n",
       "ocean_proximity         0\n",
       "dtype: int64"
      ]
     },
     "execution_count": 15,
     "metadata": {},
     "output_type": "execute_result"
    }
   ],
   "source": [
    "#q1\n",
    "\n",
    "df.isnull().sum()"
   ]
  },
  {
   "cell_type": "code",
   "execution_count": 16,
   "metadata": {},
   "outputs": [
    {
     "data": {
      "text/plain": [
       "count    15687.000000\n",
       "mean      1466.317205\n",
       "std       1180.389908\n",
       "min          3.000000\n",
       "25%        802.000000\n",
       "50%       1195.000000\n",
       "75%       1777.000000\n",
       "max      35682.000000\n",
       "Name: population, dtype: float64"
      ]
     },
     "execution_count": 16,
     "metadata": {},
     "output_type": "execute_result"
    }
   ],
   "source": [
    "#q2\n",
    "\n",
    "df.population.describe()"
   ]
  },
  {
   "cell_type": "code",
   "execution_count": 18,
   "metadata": {},
   "outputs": [],
   "source": [
    "from sklearn.linear_model import LinearRegression\n",
    "from sklearn.metrics import mean_squared_error"
   ]
  },
  {
   "cell_type": "code",
   "execution_count": 27,
   "metadata": {},
   "outputs": [
    {
     "data": {
      "text/plain": [
       "longitude             float64\n",
       "latitude              float64\n",
       "housing_median_age    float64\n",
       "total_rooms           float64\n",
       "total_bedrooms        float64\n",
       "population            float64\n",
       "households            float64\n",
       "median_income         float64\n",
       "median_house_value    float64\n",
       "ocean_proximity        object\n",
       "dtype: object"
      ]
     },
     "execution_count": 27,
     "metadata": {},
     "output_type": "execute_result"
    }
   ],
   "source": [
    "df.dtypes"
   ]
  },
  {
   "cell_type": "code",
   "execution_count": 28,
   "metadata": {},
   "outputs": [
    {
     "name": "stdout",
     "output_type": "stream",
     "text": [
      "RMSE for filling with 0: 0.35\n",
      "RMSE for filling with the mean: 0.35\n"
     ]
    }
   ],
   "source": [
    "from sklearn.model_selection import train_test_split\n",
    "from sklearn.linear_model import LinearRegression\n",
    "from sklearn.metrics import mean_squared_error\n",
    "\n",
    "# Sample DataFrame with specified columns\n",
    "columns_to_keep = ['latitude', 'longitude', 'housing_median_age', 'total_rooms', 'total_bedrooms', 'population', 'households', 'median_income', 'median_house_value']\n",
    "\n",
    "# Assuming df is your DataFrame with the filtered data\n",
    "df = df[columns_to_keep]\n",
    "\n",
    "# Shuffle the dataset with seed 42\n",
    "seed = 42\n",
    "df_shuffled = df.sample(frac=1, random_state=seed)\n",
    "\n",
    "# Split the data into train/val/test sets (60%/20%/20%)\n",
    "train_size = 0.6\n",
    "val_size = 0.2\n",
    "test_size = 0.2\n",
    "\n",
    "train, test = train_test_split(df_shuffled, test_size=(val_size + test_size), random_state=seed)\n",
    "val, test = train_test_split(test, test_size=test_size/(val_size + test_size), random_state=seed)\n",
    "\n",
    "# Apply log transformation to the 'median_house_value' variable\n",
    "target_column = 'median_house_value'\n",
    "train[target_column] = np.log1p(train[target_column])\n",
    "val[target_column] = np.log1p(val[target_column])\n",
    "test[target_column] = np.log1p(test[target_column])\n",
    "\n",
    "# Function to train a linear regression model and calculate RMSE\n",
    "def train_and_evaluate(X_train, y_train, X_val, y_val):\n",
    "    model = LinearRegression()\n",
    "    model.fit(X_train, y_train)\n",
    "    predictions = model.predict(X_val)\n",
    "    rmse = np.sqrt(mean_squared_error(y_val, predictions))\n",
    "    return rmse\n",
    "\n",
    "# Case 1: Filling missing values with 0\n",
    "train_0 = train.copy()\n",
    "val_0 = val.copy()\n",
    "\n",
    "train_0['total_bedrooms'].fillna(0, inplace=True)\n",
    "val_0['total_bedrooms'].fillna(0, inplace=True)\n",
    "\n",
    "X_train_0 = train_0.drop(target_column, axis=1)\n",
    "y_train_0 = train_0[target_column]\n",
    "X_val_0 = val_0.drop(target_column, axis=1)\n",
    "y_val_0 = val_0[target_column]\n",
    "\n",
    "rmse_0 = train_and_evaluate(X_train_0, y_train_0, X_val_0, y_val_0)\n",
    "\n",
    "# Case 2: Filling missing values with the mean (using training data only)\n",
    "mean_value = train['total_bedrooms'].mean()\n",
    "train_mean = train.copy()\n",
    "val_mean = val.copy()\n",
    "\n",
    "train_mean['total_bedrooms'].fillna(mean_value, inplace=True)\n",
    "val_mean['total_bedrooms'].fillna(mean_value, inplace=True)\n",
    "\n",
    "X_train_mean = train_mean.drop(target_column, axis=1)\n",
    "y_train_mean = train_mean[target_column]\n",
    "X_val_mean = val_mean.drop(target_column, axis=1)\n",
    "y_val_mean = val_mean[target_column]\n",
    "\n",
    "rmse_mean = train_and_evaluate(X_train_mean, y_train_mean, X_val_mean, y_val_mean)\n",
    "\n",
    "print(\"RMSE for filling with 0:\", round(rmse_0, 2))\n",
    "print(\"RMSE for filling with the mean:\", round(rmse_mean, 2))\n",
    "\n",
    "# Compare RMSE scores and determine which option gives better results\n"
   ]
  },
  {
   "cell_type": "code",
   "execution_count": 29,
   "metadata": {},
   "outputs": [
    {
     "name": "stdout",
     "output_type": "stream",
     "text": [
      "RMSE for alpha=0: 0.35\n",
      "RMSE for alpha=1e-06: 0.35\n",
      "RMSE for alpha=0.0001: 0.35\n",
      "RMSE for alpha=0.001: 0.35\n",
      "RMSE for alpha=0.01: 0.35\n",
      "RMSE for alpha=0.1: 0.35\n",
      "RMSE for alpha=1: 0.35\n",
      "RMSE for alpha=5: 0.35\n",
      "RMSE for alpha=10: 0.35\n"
     ]
    }
   ],
   "source": [
    "#q4\n",
    "\n",
    "from sklearn.linear_model import Ridge\n",
    "from sklearn.metrics import mean_squared_error\n",
    "import numpy as np\n",
    "\n",
    "# Assuming df is your DataFrame with the filtered data\n",
    "# Assuming 'median_house_value' is your target column\n",
    "\n",
    "# Fill NAs with 0\n",
    "df_filled = df.fillna(0)\n",
    "\n",
    "# Shuffle the dataset with seed 42\n",
    "seed = 42\n",
    "df_shuffled = df_filled.sample(frac=1, random_state=seed)\n",
    "\n",
    "# Split the data into train/val/test sets (60%/20%/20%)\n",
    "train_size = 0.6\n",
    "val_size = 0.2\n",
    "test_size = 0.2\n",
    "\n",
    "train, test = train_test_split(df_shuffled, test_size=(val_size + test_size), random_state=seed)\n",
    "val, test = train_test_split(test, test_size=test_size/(val_size + test_size), random_state=seed)\n",
    "\n",
    "# Apply log transformation to the 'median_house_value' variable\n",
    "target_column = 'median_house_value'\n",
    "train[target_column] = np.log1p(train[target_column])\n",
    "val[target_column] = np.log1p(val[target_column])\n",
    "test[target_column] = np.log1p(test[target_column])\n",
    "\n",
    "# Function to train a Ridge regression model and calculate RMSE\n",
    "def train_and_evaluate_ridge(X_train, y_train, X_val, y_val, alpha):\n",
    "    model = Ridge(alpha=alpha)\n",
    "    model.fit(X_train, y_train)\n",
    "    predictions = model.predict(X_val)\n",
    "    rmse = np.sqrt(mean_squared_error(y_val, predictions))\n",
    "    return rmse\n",
    "\n",
    "# Filling missing values with 0\n",
    "X_train_ridge = train.drop(target_column, axis=1)\n",
    "y_train_ridge = train[target_column]\n",
    "X_val_ridge = val.drop(target_column, axis=1)\n",
    "y_val_ridge = val[target_column]\n",
    "\n",
    "# List of different alpha values to try\n",
    "alpha_values = [0, 0.000001, 0.0001, 0.001, 0.01, 0.1, 1, 5, 10]\n",
    "\n",
    "# Evaluate Ridge regression models with different alpha values\n",
    "for alpha in alpha_values:\n",
    "    rmse_ridge = train_and_evaluate_ridge(X_train_ridge, y_train_ridge, X_val_ridge, y_val_ridge, alpha)\n",
    "    print(f\"RMSE for alpha={alpha}: {round(rmse_ridge, 2)}\")\n"
   ]
  },
  {
   "cell_type": "code",
   "execution_count": 31,
   "metadata": {},
   "outputs": [
    {
     "name": "stdout",
     "output_type": "stream",
     "text": [
      "Standard Deviation of RMSE scores: 0.006\n"
     ]
    }
   ],
   "source": [
    "#q5\n",
    "\n",
    "import numpy as np\n",
    "from sklearn.model_selection import train_test_split\n",
    "from sklearn.linear_model import LinearRegression\n",
    "from sklearn.metrics import mean_squared_error\n",
    "\n",
    "# Assuming df is your DataFrame with the filtered data\n",
    "# Assuming 'median_house_value' is your target column\n",
    "\n",
    "# Fill NAs with 0\n",
    "df_filled = df.fillna(0)\n",
    "\n",
    "# List of different seed values to try\n",
    "seed_values = [0, 1, 2, 3, 4, 5, 6, 7, 8, 9]\n",
    "\n",
    "# Initialize an empty list to store RMSE scores\n",
    "rmse_scores = []\n",
    "\n",
    "# Loop over different seed values\n",
    "for seed in seed_values:\n",
    "    # Shuffle the dataset with the current seed\n",
    "    df_shuffled = df_filled.sample(frac=1, random_state=seed)\n",
    "\n",
    "    # Split the data into train/val/test sets (60%/20%/20%)\n",
    "    train_size = 0.6\n",
    "    val_size = 0.2\n",
    "    test_size = 0.2\n",
    "\n",
    "    train, test = train_test_split(df_shuffled, test_size=(val_size + test_size), random_state=seed)\n",
    "    val, test = train_test_split(test, test_size=test_size/(val_size + test_size), random_state=seed)\n",
    "\n",
    "    # Apply log transformation to the 'median_house_value' variable\n",
    "    target_column = 'median_house_value'\n",
    "    train[target_column] = np.log1p(train[target_column])\n",
    "    val[target_column] = np.log1p(val[target_column])\n",
    "    test[target_column] = np.log1p(test[target_column])\n",
    "\n",
    "    # Train a model without regularization\n",
    "    X_train = train.drop(target_column, axis=1)\n",
    "    y_train = train[target_column]\n",
    "    X_val = val.drop(target_column, axis=1)\n",
    "    y_val = val[target_column]\n",
    "\n",
    "    model = LinearRegression()\n",
    "    model.fit(X_train, y_train)\n",
    "    \n",
    "    # Make predictions on the validation set\n",
    "    predictions = model.predict(X_val)\n",
    "    \n",
    "    # Calculate RMSE for the current seed\n",
    "    rmse = np.sqrt(mean_squared_error(y_val, predictions))\n",
    "    \n",
    "    # Append the RMSE to the list\n",
    "    rmse_scores.append(rmse)\n",
    "\n",
    "# Calculate the standard deviation of all the scores\n",
    "std_dev = np.std(rmse_scores)\n",
    "\n",
    "# Round the result to 3 decimal digits\n",
    "std_dev_rounded = round(std_dev, 3)\n",
    "\n",
    "print(f\"Standard Deviation of RMSE scores: {std_dev_rounded}\")"
   ]
  },
  {
   "cell_type": "code",
   "execution_count": 32,
   "metadata": {},
   "outputs": [
    {
     "name": "stdout",
     "output_type": "stream",
     "text": [
      "RMSE on the test dataset: 0.33\n"
     ]
    }
   ],
   "source": [
    "#q6\n",
    "\n",
    "import numpy as np\n",
    "from sklearn.model_selection import train_test_split\n",
    "from sklearn.linear_model import Ridge\n",
    "from sklearn.metrics import mean_squared_error\n",
    "\n",
    "# Assuming df is your DataFrame with the filtered data\n",
    "# Assuming 'median_house_value' is your target column\n",
    "\n",
    "# Fill NAs with 0\n",
    "df_filled = df.fillna(0)\n",
    "\n",
    "# Seed for reproducibility\n",
    "seed = 9\n",
    "\n",
    "# Shuffle the dataset with seed 9\n",
    "df_shuffled = df_filled.sample(frac=1, random_state=seed)\n",
    "\n",
    "# Split the data into train/val/test sets (60%/20%/20%)\n",
    "train_size = 0.6\n",
    "val_size = 0.2\n",
    "test_size = 0.2\n",
    "\n",
    "train, test = train_test_split(df_shuffled, test_size=(val_size + test_size), random_state=seed)\n",
    "val, test = train_test_split(test, test_size=test_size/(val_size + test_size), random_state=seed)\n",
    "\n",
    "# Combine train and validation datasets\n",
    "train_combined = pd.concat([train, val])\n",
    "\n",
    "# Apply log transformation to the 'median_house_value' variable\n",
    "target_column = 'median_house_value'\n",
    "train_combined[target_column] = np.log1p(train_combined[target_column])\n",
    "test[target_column] = np.log1p(test[target_column])\n",
    "\n",
    "# Train a model with r=0.001 (alpha=0.001)\n",
    "X_train_combined = train_combined.drop(target_column, axis=1)\n",
    "y_train_combined = train_combined[target_column]\n",
    "X_test = test.drop(target_column, axis=1)\n",
    "y_test = test[target_column]\n",
    "\n",
    "# Train Ridge regression model with alpha=0.001\n",
    "model = Ridge(alpha=0.001)\n",
    "model.fit(X_train_combined, y_train_combined)\n",
    "\n",
    "# Make predictions on the test set\n",
    "predictions_test = model.predict(X_test)\n",
    "\n",
    "# Calculate RMSE on the test dataset\n",
    "rmse_test = np.sqrt(mean_squared_error(y_test, predictions_test))\n",
    "\n",
    "print(f\"RMSE on the test dataset: {round(rmse_test, 2)}\")"
   ]
  },
  {
   "cell_type": "code",
   "execution_count": null,
   "metadata": {},
   "outputs": [],
   "source": []
  },
  {
   "cell_type": "code",
   "execution_count": null,
   "metadata": {},
   "outputs": [],
   "source": []
  },
  {
   "cell_type": "code",
   "execution_count": null,
   "metadata": {},
   "outputs": [],
   "source": []
  }
 ],
 "metadata": {
  "kernelspec": {
   "display_name": "Python 3",
   "language": "python",
   "name": "python3"
  },
  "language_info": {
   "codemirror_mode": {
    "name": "ipython",
    "version": 3
   },
   "file_extension": ".py",
   "mimetype": "text/x-python",
   "name": "python",
   "nbconvert_exporter": "python",
   "pygments_lexer": "ipython3",
   "version": "3.11.7"
  }
 },
 "nbformat": 4,
 "nbformat_minor": 2
}
